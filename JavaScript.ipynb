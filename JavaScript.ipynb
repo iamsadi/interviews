{
 "cells": [
  {
   "cell_type": "markdown",
   "metadata": {},
   "source": [
    "## What would the following code return?"
   ]
  },
  {
   "cell_type": "raw",
   "metadata": {},
   "source": [
    "console.log(typeof typeof 1);\n",
    "\n",
    "Answer:\n",
    "\n",
    "string\n",
    "\n",
    "typeof 1 will return \"number\" and typeof \"number\" will return string."
   ]
  },
  {
   "cell_type": "markdown",
   "metadata": {},
   "source": [
    "## What is the value of typeof undefined == typeof NULL?"
   ]
  },
  {
   "cell_type": "raw",
   "metadata": {},
   "source": [
    "The expression will be evaluated to true, since NULL will be treated as any other undefined variable.\n",
    "\n",
    "Note: JavaScript is case-sensitive and here we are using NULL instead of null."
   ]
  },
  {
   "cell_type": "markdown",
   "metadata": {},
   "source": [
    "## Imagine you have this code:\n",
    "\n",
    "```\n",
    "var a = [1, 2, 3];\n",
    "```\n",
    "\n",
    "    a. Will this result in a crash?\n",
    "\n",
    "```\n",
    "a[10] = 99;\n",
    "```\n",
    "\n",
    "    b. What will this output?\n",
    "\n",
    "```\n",
    "console.log(a[6]);\n",
    "```"
   ]
  },
  {
   "cell_type": "markdown",
   "metadata": {},
   "source": [
    "a) It will not crash. The JavaScript engine will make array slots 3 through 9 be “empty slots.”\n",
    "\n",
    "b) Here, a[6] will output undefined, but the slot still remains empty rather than filled with undefined. This may be an important nuance in some cases. For example, when using map(), empty slots will remain empty in map()’s output, but undefined slots will be remapped using the function passed to it:\n",
    "\n",
    "```\n",
    "var b = [undefined];\n",
    "b[2] = 1;\n",
    "console.log(b);             // (3) [undefined, empty × 1, 1]\n",
    "console.log(b.map(e => 7)); // (3) [7,         empty × 1, 7]\n",
    "```"
   ]
  },
  {
   "cell_type": "code",
   "execution_count": null,
   "metadata": {},
   "outputs": [],
   "source": []
  }
 ],
 "metadata": {
  "kernelspec": {
   "display_name": "Python 2",
   "language": "python",
   "name": "python2"
  },
  "language_info": {
   "codemirror_mode": {
    "name": "ipython",
    "version": 2
   },
   "file_extension": ".py",
   "mimetype": "text/x-python",
   "name": "python",
   "nbconvert_exporter": "python",
   "pygments_lexer": "ipython2",
   "version": "2.7.13"
  }
 },
 "nbformat": 4,
 "nbformat_minor": 2
}
